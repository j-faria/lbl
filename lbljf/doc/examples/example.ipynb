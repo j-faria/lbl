{
 "cells": [
  {
   "cell_type": "markdown",
   "metadata": {
    "collapsed": true
   },
   "source": [
    "# Examples for LBL\n",
    "\n",
    "This is a set of simple examples for using lbl compute and lbl compile functions"
   ]
  },
  {
   "cell_type": "markdown",
   "source": [
    "### 1. Import the wrapper"
   ],
   "metadata": {
    "collapsed": false
   }
  },
  {
   "cell_type": "code",
   "execution_count": null,
   "outputs": [],
   "source": [
    "from lbl import lbl_wrap"
   ],
   "metadata": {
    "collapsed": false
   }
  },
  {
   "cell_type": "markdown",
   "source": [
    "### 2. Running the wrapper (simplest form)\n",
    "\n",
    "First we set some constants then we can run the code.\n",
    "There are three types of constants\n",
    "- general settings and parameters for LBL\n",
    "- object specific parameters\n",
    "- run time parameters (RUN_XXX and SKIP_XXX)"
   ],
   "metadata": {
    "collapsed": false
   }
  },
  {
   "cell_type": "code",
   "execution_count": null,
   "outputs": [],
   "source": [
    "# set up parameters\n",
    "rparams = dict()\n",
    "# -------------------------------------------------------------------------\n",
    "# LBL parameters\n",
    "# -------------------------------------------------------------------------\n",
    "# This is the instrument name\n",
    "#   Currently supported instruments are SPIROU, HARPS, ESPRESSO, CARMENES\n",
    "#                                       NIRPS_HE, NIRPS_HA, MAROONX\n",
    "rparams['INSTRUMENT'] = 'SPIROU'\n",
    "#   Data source must be as follows:\n",
    "#       SPIROU: APERO or CADC\n",
    "#       NIRPS_HA: APERO or ESO\n",
    "#       NIRPS_HE: APERO or ESO\n",
    "#       CARMENES: None\n",
    "#       ESPRESSO: None\n",
    "#       HARPS: None\n",
    "#       MAROONX: RED or BLUE\n",
    "rparams['DATA_SOURCE'] = 'APERO'\n",
    "# The data directory where all data is stored under - this should be an\n",
    "#    absolute path\n",
    "rparams['DATA_DIR'] = '/data/spirou/data/lbl/'\n",
    "# You may also add any constant here to override the default value\n",
    "#     (see README for details) - this is NOT recommended for non developers\n",
    "#   Note this may have undesired affects as these parameters apply globally\n",
    "#     for all LBL recipes\n",
    "# rparams['INPUT_FILE'] = '2*e2dsff_AB.fits'\n",
    "# -------------------------------------------------------------------------\n",
    "# science criteria\n",
    "# -------------------------------------------------------------------------\n",
    "# The data type (either SCIENCE or FP or LFC)\n",
    "rparams['DATA_TYPES'] = ['FP', 'SCIENCE', 'SCIENCE', 'SCIENCE', 'SCIENCE',\n",
    "                         'SCIENCE', 'SCIENCE', 'SCIENCE', 'SCIENCE',\n",
    "                         'SCIENCE']\n",
    "# The object name (this is the directory name under the /science/\n",
    "#    sub-directory and thus does not have to be the name in the header\n",
    "rparams['OBJECT_SCIENCE'] = ['FP', 'GJ1002', 'GJ1286', 'GJ1289', 'GL15A',\n",
    "                             'GL411', 'GL412A', 'GL687', 'GL699', 'GL905']\n",
    "# This is the template that will be used or created (depending on what is\n",
    "#   run)\n",
    "rparams['OBJECT_TEMPLATE'] = ['FP', 'GJ1002', 'GJ1286', 'GJ1289', 'GL15A',\n",
    "                              'GL411', 'GL412A', 'GL687', 'GL699', 'GL905']\n",
    "# This is the object temperature in K - used for getting a stellar model\n",
    "#   for the masks it only has to be good to a few 100 K\n",
    "rparams['OBJECT_TEFF'] = [300, 2900, 2900, 3250, 3603, 3550, 3549, 3420,\n",
    "                          3224, 2930]\n",
    "# -------------------------------------------------------------------------\n",
    "# what to run and skip if already on disk\n",
    "# -------------------------------------------------------------------------\n",
    "# Whether to run the telluric cleaning process (NOT recommended for data\n",
    "#   that has better telluric cleaning i.e. SPIROU using APERO)\n",
    "rparams['RUN_LBL_TELLUCLEAN'] = False\n",
    "# Whether to create templates from the data in the science directory\n",
    "#   If a template has been supplied from elsewhere this set is NOT required\n",
    "rparams['RUN_LBL_TEMPLATE'] = True\n",
    "# Whether to create a mask using the template created or supplied\n",
    "rparams['RUN_LBL_MASK'] = True\n",
    "# Whether to run the LBL compute step - which computes the line by line\n",
    "#   for each observation\n",
    "rparams['RUN_LBL_COMPUTE'] = True\n",
    "# Whether to run the LBL compile step - which compiles the rdb file and\n",
    "#   deals with outlier rejection\n",
    "rparams['RUN_LBL_COMPILE'] = True\n",
    "# whether to skip observations if a file is already on disk (useful when\n",
    "#   adding a few new files) there is one for each RUN_XXX step\n",
    "rparams['SKIP_LBL_TELLUCLEAN'] = False\n",
    "rparams['SKIP_LBL_TEMPLATE'] = True\n",
    "rparams['SKIP_LBL_MASK'] = True\n",
    "rparams['SKIP_LBL_COMPUTE'] = True\n",
    "rparams['SKIP_LBL_COMPILE'] = True\n",
    "\n",
    "# -------------------------------------------------------------------------\n",
    "# LBL settings\n",
    "# -------------------------------------------------------------------------\n",
    "# You can change any setting in parameters (or override those changed\n",
    "#   by specific instruments) here\n",
    "# -------------------------------------------------------------------------\n",
    "# Advanced settings\n",
    "#   Do not use without contacting the LBL developers\n",
    "# -------------------------------------------------------------------------\n",
    "# Dictionary of table name for the file used in the projection against the\n",
    "#     derivative. Key is to output column name that will propagate into the\n",
    "#     final RDB table and the value is the filename of the table. The table\n",
    "#     must follow a number of characteristics explained on the LBL website.\n",
    "# rparams['RESPROJ_TABLES'] = []]\n",
    "\n",
    "# Rotational velocity parameters, should be a list of two values, one being\n",
    "#     the epsilon and the other one being the vsini in km/s as defined in the\n",
    "#     PyAstronomy.pyasl.rotBroad function\n",
    "# rparams['ROTBROAD'] = []]\n",
    "\n",
    "# turn on plots\n",
    "rparams['PLOTS'] = False"
   ],
   "metadata": {
    "collapsed": false,
    "pycharm": {
     "is_executing": true
    }
   }
  },
  {
   "cell_type": "markdown",
   "source": [
    "### 3. Running the codes (with config file)\n",
    "\n",
    "Set the config file (all other constants set in here)"
   ],
   "metadata": {
    "collapsed": false
   }
  },
  {
   "cell_type": "code",
   "execution_count": null,
   "outputs": [],
   "source": [
    "# run main (only input is the rparams from above)\n",
    "lbl_wrap(rparams)"
   ],
   "metadata": {
    "collapsed": false
   }
  }
 ],
 "metadata": {
  "kernelspec": {
   "display_name": "Python 3",
   "language": "python",
   "name": "python3"
  },
  "language_info": {
   "codemirror_mode": {
    "name": "ipython",
    "version": 2
   },
   "file_extension": ".py",
   "mimetype": "text/x-python",
   "name": "python",
   "nbconvert_exporter": "python",
   "pygments_lexer": "ipython2",
   "version": "2.7.6"
  }
 },
 "nbformat": 4,
 "nbformat_minor": 0
}
